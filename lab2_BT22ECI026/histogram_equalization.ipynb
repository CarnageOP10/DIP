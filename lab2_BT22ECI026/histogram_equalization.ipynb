{
 "cells": [
  {
   "cell_type": "markdown",
   "metadata": {},
   "source": [
    "<h1>\n",
    "BT22ECI026<br>\n",
    "Parth Singh<br>\n",
    "Histogram Equalization<br>\n",
    "16th Jan, 2025\n",
    "</h1>"
   ]
  },
  {
   "cell_type": "code",
   "execution_count": 1,
   "metadata": {},
   "outputs": [],
   "source": [
    "import cv2\n",
    "import numpy as np\n",
    "import tkinter as tk\n",
    "from tkinter import filedialog\n",
    "from tkinter import messagebox"
   ]
  },
  {
   "cell_type": "code",
   "execution_count": 2,
   "metadata": {},
   "outputs": [],
   "source": [
    "I = cv2.imread('../dip_img.jpeg')\n",
    "I = cv2.resize(I, (500, 500))\n",
    "cv2.imshow('Original Image', I)\n",
    "cv2.waitKey(0)\n",
    "cv2.destroyAllWindows()"
   ]
  },
  {
   "cell_type": "code",
   "execution_count": 3,
   "metadata": {},
   "outputs": [],
   "source": [
    "I1 = I[:, :, 0]\n",
    "cv2.imshow('Blue Channel', I1)\n",
    "cv2.waitKey(0)\n",
    "cv2.destroyAllWindows()"
   ]
  },
  {
   "cell_type": "code",
   "execution_count": 4,
   "metadata": {},
   "outputs": [],
   "source": [
    "#Performing histogram equalization\n",
    "I2 = cv2.equalizeHist(I1)\n",
    "cv2.imshow('Histogram Equalized Image', I2)\n",
    "cv2.waitKey(0)\n",
    "cv2.destroyAllWindows()"
   ]
  },
  {
   "cell_type": "markdown",
   "metadata": {},
   "source": [
    "<h2>\n",
    "Manual Function\n",
    "</h2>"
   ]
  },
  {
   "cell_type": "code",
   "execution_count": 5,
   "metadata": {},
   "outputs": [],
   "source": [
    "def histeq(img_path):\n",
    "    I = cv2.imread(img_path)\n",
    "    I = cv2.resize(I, (500, 500))\n",
    "    I = I[:, :, 0]\n",
    "    a = I.flatten()\n",
    "    n = len(a)\n",
    "    a.sort()\n",
    "    hashmap = {}\n",
    "    for i in range(n):\n",
    "        if a[i] in hashmap:\n",
    "            hashmap[a[i]] += 1\n",
    "        else:\n",
    "            hashmap[a[i]] = 1\n",
    "    cdf = 0\n",
    "    cdf_dict = {}\n",
    "    for key in hashmap:\n",
    "        cdf += hashmap[key]\n",
    "        cdf_dict[key] = cdf\n",
    "    min = cdf_dict[a[0]]\n",
    "\n",
    "    for i in range(500):\n",
    "        for j in range(500):\n",
    "            I[i][j] = (cdf_dict[I[i][j]] - cdf_dict[a[0]])*(23)/((500*500) -1)\n",
    "\n",
    "    cv2.imshow('Histogram Equalized Image', I)\n",
    "    cv2.waitKey(0)\n",
    "    cv2.destroyAllWindows()"
   ]
  },
  {
   "cell_type": "code",
   "execution_count": 6,
   "metadata": {},
   "outputs": [],
   "source": [
    "histeq('../dip_img.jpeg')"
   ]
  },
  {
   "cell_type": "code",
   "execution_count": 7,
   "metadata": {},
   "outputs": [],
   "source": [
    "def histeq(img_path):\n",
    "    # Read the image in grayscale mode\n",
    "    img = cv2.imread(img_path, cv2.IMREAD_GRAYSCALE)\n",
    "    if img is None:\n",
    "        messagebox.showerror(\"Error\", \"Unable to open image file.\")\n",
    "        return\n",
    "\n",
    "    # Resize the image for consistency\n",
    "    img_resized = cv2.resize(img, (500, 500))\n",
    "\n",
    "    # Perform histogram equalization\n",
    "    hist_eq_img = cv2.equalizeHist(img_resized)\n",
    "\n",
    "    # Show the original and equalized images\n",
    "    cv2.imshow('Original Image', img_resized)\n",
    "    cv2.imshow('Histogram Equalized Image', hist_eq_img)\n",
    "    cv2.waitKey(0)\n",
    "    cv2.destroyAllWindows()\n",
    "\n",
    "def upload_and_process():\n",
    "    # Open file dialog to select an image file\n",
    "    file_path = filedialog.askopenfilename(\n",
    "        title=\"Select an Image\",\n",
    "        filetypes=[(\"Image Files\", \"*.jpg;*.jpeg;*.png;*.bmp\")]\n",
    "    )\n",
    "\n",
    "    if file_path:\n",
    "        histeq(file_path)\n",
    "    else:\n",
    "        messagebox.showinfo(\"Info\", \"No file selected.\")\n",
    "\n",
    "# Create the Tkinter GUI\n",
    "root = tk.Tk()\n",
    "root.title(\"Histogram Equalization Tool\")\n",
    "root.geometry(\"400x200\")\n",
    "\n",
    "label = tk.Label(root, text=\"Click the button below to upload an image.\", font=(\"Helvetica\", 12))\n",
    "label.pack(pady=20)\n",
    "\n",
    "button = tk.Button(root, text=\"Upload Image\", command=upload_and_process, font=(\"Helvetica\", 12))\n",
    "button.pack(pady=10)\n",
    "\n",
    "root.mainloop()"
   ]
  }
 ],
 "metadata": {
  "kernelspec": {
   "display_name": "Python 3",
   "language": "python",
   "name": "python3"
  },
  "language_info": {
   "codemirror_mode": {
    "name": "ipython",
    "version": 3
   },
   "file_extension": ".py",
   "mimetype": "text/x-python",
   "name": "python",
   "nbconvert_exporter": "python",
   "pygments_lexer": "ipython3",
   "version": "3.11.6"
  }
 },
 "nbformat": 4,
 "nbformat_minor": 2
}
