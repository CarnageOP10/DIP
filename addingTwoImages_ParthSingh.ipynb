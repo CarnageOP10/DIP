{
 "cells": [
  {
   "cell_type": "markdown",
   "metadata": {},
   "source": [
    "addingTwoImages_ParthSingh.ipynb\n",
    "<h1>\n",
    "BT22ECI026<br>\n",
    "Parth Singh<br>\n",
    "Adding Two Images<br>\n",
    "9th Jan, 2025\n",
    "</h1>"
   ]
  },
  {
   "cell_type": "code",
   "execution_count": 2,
   "metadata": {},
   "outputs": [],
   "source": [
    "import cv2\n",
    "\n",
    "# adding 2 images\n",
    "# but the size of the images should be same\n",
    "I1 = cv2.imread('img1.jpg')\n",
    "I2 = cv2.imread('img2.jpg')\n",
    "\n",
    "# resizing the images to same size\n",
    "I1 = cv2.resize(I1, (500, 500))\n",
    "I2 = cv2.resize(I2, (500, 500))\n",
    "\n",
    "# adding the images\n",
    "I3 = cv2.add(I1, I2)\n",
    "\n",
    "# showing the image\n",
    "cv2.imshow('image', I3)\n",
    "\n",
    "cv2.waitKey(0)\n",
    "cv2.destroyAllWindows()"
   ]
  },
  {
   "cell_type": "code",
   "execution_count": null,
   "metadata": {},
   "outputs": [],
   "source": []
  }
 ],
 "metadata": {
  "kernelspec": {
   "display_name": "Python 3",
   "language": "python",
   "name": "python3"
  },
  "language_info": {
   "codemirror_mode": {
    "name": "ipython",
    "version": 3
   },
   "file_extension": ".py",
   "mimetype": "text/x-python",
   "name": "python",
   "nbconvert_exporter": "python",
   "pygments_lexer": "ipython3",
   "version": "3.11.6"
  }
 },
 "nbformat": 4,
 "nbformat_minor": 2
}
