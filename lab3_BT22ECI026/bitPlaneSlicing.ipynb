{
 "cells": [
  {
   "cell_type": "markdown",
   "metadata": {},
   "source": [
    "<h1>\n",
    "BT22ECI026<br>\n",
    "Parth Singh<br>\n",
    "Bit Plane Slicing<br>\n",
    "23rd Jan, 2025\n",
    "</h1>"
   ]
  },
  {
   "cell_type": "code",
   "execution_count": 1,
   "metadata": {},
   "outputs": [],
   "source": [
    "import cv2\n",
    "import numpy as np"
   ]
  },
  {
   "cell_type": "code",
   "execution_count": 7,
   "metadata": {},
   "outputs": [],
   "source": [
    "#reading the image\n",
    "I = cv2.imread('../dip_img.jpeg', cv2.IMREAD_GRAYSCALE)\n",
    "if I is None:\n",
    "\tprint(\"Error: Image not found or unable to read\")\n",
    "else:\n",
    "\tI = cv2.resize(I, (500, 500))\n",
    "\tcv2.imshow('Original Image', I)\n",
    "\tcv2.waitKey(0)\n",
    "\tcv2.destroyAllWindows()"
   ]
  },
  {
   "cell_type": "code",
   "execution_count": 14,
   "metadata": {},
   "outputs": [],
   "source": [
    "#convert integer to binary without using inbuilt function\n",
    "\n",
    "def binary_repres(n):\n",
    "    bin_num = ''\n",
    "    while n > 0:\n",
    "        bin_num = str(n % 2) + bin_num\n",
    "        n = n // 2\n",
    "    return bin_num"
   ]
  },
  {
   "cell_type": "code",
   "execution_count": 13,
   "metadata": {},
   "outputs": [],
   "source": [
    "#function for changing int to binary \n",
    "def int2bitarray(img):\n",
    "    arr = []\n",
    "    for i in range(img.shape[0]):\n",
    "        for j in range(img.shape[1]):\n",
    "            arr.append(binary_repres(img[i][j], width=8))\n",
    "    return arr"
   ]
  },
  {
   "cell_type": "code",
   "execution_count": 9,
   "metadata": {},
   "outputs": [],
   "source": [
    "#using the function to convert the image to binary\n",
    "arr = np.array(int2bitarray(I))\n",
    "arr = arr.reshape(I.shape)"
   ]
  },
  {
   "cell_type": "code",
   "execution_count": 10,
   "metadata": {},
   "outputs": [
    {
     "name": "stdout",
     "output_type": "stream",
     "text": [
      "\n",
      "bit plane 7 done!\n",
      "\n",
      "bit plane 6 done!\n",
      "\n",
      "bit plane 5 done!\n",
      "\n",
      "bit plane 4 done!\n",
      "\n",
      "bit plane 3 done!\n",
      "\n",
      "bit plane 2 done!\n",
      "\n",
      "bit plane 1 done!\n",
      "\n",
      "bit plane 0 done!\n"
     ]
    }
   ],
   "source": [
    "#saving the bit planes\n",
    "plane = np.zeros((I.shape))\n",
    "for k in range(0,8):\n",
    "    for i in range(arr.shape[0]):\n",
    "        for j in range(arr.shape[1]):\n",
    "            plane[i,j]=int(arr[i,j][k])\n",
    "    cv2.imwrite('./Bitplane'+str(7-k)+'.png',plane*255)\n",
    "    print('\\nbit plane '+str(7-k)+' done!')"
   ]
  },
  {
   "cell_type": "code",
   "execution_count": 15,
   "metadata": {},
   "outputs": [
    {
     "name": "stdout",
     "output_type": "stream",
     "text": [
      "(4, '1010')\n"
     ]
    }
   ],
   "source": [
    "def int2bit(num):\n",
    "    n = num\n",
    "    count = 0\n",
    "    while n>0:\n",
    "        count += 1\n",
    "        n = n//2\n",
    "\n",
    "    return count,binary_repres(num)\n",
    "print(int2bit(10))"
   ]
  },
  {
   "cell_type": "code",
   "execution_count": null,
   "metadata": {},
   "outputs": [],
   "source": []
  }
 ],
 "metadata": {
  "kernelspec": {
   "display_name": "Python 3",
   "language": "python",
   "name": "python3"
  },
  "language_info": {
   "codemirror_mode": {
    "name": "ipython",
    "version": 3
   },
   "file_extension": ".py",
   "mimetype": "text/x-python",
   "name": "python",
   "nbconvert_exporter": "python",
   "pygments_lexer": "ipython3",
   "version": "3.11.6"
  }
 },
 "nbformat": 4,
 "nbformat_minor": 2
}
