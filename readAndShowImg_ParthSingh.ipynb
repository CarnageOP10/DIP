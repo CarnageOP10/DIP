{
 "cells": [
  {
   "cell_type": "markdown",
   "metadata": {},
   "source": [
    "<h1>\n",
    "BT22ECI026<br>\n",
    "Parth Singh<br>\n",
    "Reading and showing an Image<br>\n",
    "9th Jan, 2025\n",
    "</h1>"
   ]
  },
  {
   "cell_type": "code",
   "execution_count": 1,
   "metadata": {},
   "outputs": [],
   "source": [
    "import cv2\n",
    "import numpy as np\n",
    "\n",
    "# read and show image\n",
    "I = cv2.imread('img1.jpg') \n",
    "\n",
    "# resize image\n",
    "I = cv2.resize(I, (0,0), fx=0.1, fy=0.1)\n",
    "\n",
    "cv2.imshow('image', I)\n",
    "\n",
    "cv2.waitKey(0)\n",
    "cv2.destroyAllWindows()\n"
   ]
  },
  {
   "cell_type": "code",
   "execution_count": 2,
   "metadata": {},
   "outputs": [
    {
     "name": "stdout",
     "output_type": "stream",
     "text": [
      "rows: 216\n",
      "cols: 384\n",
      "ch: 3\n"
     ]
    }
   ],
   "source": [
    "#the dimensions of the image\n",
    "rows, cols, ch = I.shape\n",
    "\n",
    "print('rows:', rows)\n",
    "print('cols:', cols)\n",
    "print('ch:', ch)"
   ]
  },
  {
   "cell_type": "code",
   "execution_count": 6,
   "metadata": {},
   "outputs": [
    {
     "name": "stdout",
     "output_type": "stream",
     "text": [
      "pixel: [8 3 2]\n"
     ]
    }
   ],
   "source": [
    "# find the value of pixel in first row and second column\n",
    "pixel = I[0,1]\n",
    "print('pixel:', pixel)"
   ]
  }
 ],
 "metadata": {
  "kernelspec": {
   "display_name": "Python 3",
   "language": "python",
   "name": "python3"
  },
  "language_info": {
   "codemirror_mode": {
    "name": "ipython",
    "version": 3
   },
   "file_extension": ".py",
   "mimetype": "text/x-python",
   "name": "python",
   "nbconvert_exporter": "python",
   "pygments_lexer": "ipython3",
   "version": "3.11.6"
  }
 },
 "nbformat": 4,
 "nbformat_minor": 2
}
