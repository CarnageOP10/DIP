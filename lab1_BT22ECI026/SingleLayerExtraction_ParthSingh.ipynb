{
 "cells": [
  {
   "cell_type": "code",
   "execution_count": 26,
   "metadata": {},
   "outputs": [],
   "source": [
    "import cv2"
   ]
  },
  {
   "cell_type": "code",
   "execution_count": 29,
   "metadata": {},
   "outputs": [],
   "source": [
    "# read the image\n",
    "I = cv2.imread(\"img1.jpg\", cv2.IMREAD_UNCHANGED)\n",
    "I = cv2.resize(I, (500, 500))"
   ]
  },
  {
   "cell_type": "code",
   "execution_count": 16,
   "metadata": {},
   "outputs": [],
   "source": [
    "# red component\n",
    "\n",
    "red_comp = I\n",
    "red_comp[:, :, 1] = 0\n",
    "red_comp[:, :, 0] = 0\n",
    "\n",
    "cv2.imshow(\"Red Component\", red_comp)\n",
    "cv2.waitKey(0)\n",
    "cv2.destroyAllWindows()\n",
    "\n"
   ]
  },
  {
   "cell_type": "code",
   "execution_count": 24,
   "metadata": {},
   "outputs": [],
   "source": [
    "# green component\n",
    "\n",
    "green_comp = I\n",
    "green_comp[:, :, 0] = 0\n",
    "green_comp[:, :, 2] = 0\n",
    "\n",
    "cv2.imshow(\"Green Component\", green_comp)\n",
    "cv2.waitKey(0)\n",
    "cv2.destroyAllWindows()"
   ]
  },
  {
   "cell_type": "code",
   "execution_count": 34,
   "metadata": {},
   "outputs": [],
   "source": [
    "# blue component\n",
    "\n",
    "blue_comp = I\n",
    "blue_comp[:, :, 1] = 0\n",
    "blue_comp[:, :, 2] = 0\n",
    "\n",
    "cv2.imshow(\"Blue Component\", blue_comp)\n",
    "cv2.waitKey(0)\n",
    "cv2.destroyAllWindows()"
   ]
  },
  {
   "cell_type": "code",
   "execution_count": 25,
   "metadata": {},
   "outputs": [],
   "source": [
    "# extract the red layer\n",
    "red_layer = I[:, :, 2]\n",
    "cv2.imshow(\"Red Layer\", red_layer)\n",
    "cv2.waitKey(0)\n",
    "cv2.destroyAllWindows()"
   ]
  },
  {
   "cell_type": "code",
   "execution_count": 20,
   "metadata": {},
   "outputs": [],
   "source": [
    "# extract the green layer\n",
    "green = I[:, :, 1]\n",
    "cv2.imshow(\"Green Layer\", green)\n",
    "cv2.waitKey(0)\n",
    "cv2.destroyAllWindows()"
   ]
  },
  {
   "cell_type": "code",
   "execution_count": 32,
   "metadata": {},
   "outputs": [],
   "source": [
    "# extract the blue layer\n",
    "blue = I[:, :, 0]\n",
    "cv2.imshow(\"Blue Layer\", blue)\n",
    "cv2.waitKey(0)\n",
    "cv2.destroyAllWindows()"
   ]
  },
  {
   "cell_type": "code",
   "execution_count": null,
   "metadata": {},
   "outputs": [],
   "source": []
  }
 ],
 "metadata": {
  "kernelspec": {
   "display_name": "Python 3",
   "language": "python",
   "name": "python3"
  },
  "language_info": {
   "codemirror_mode": {
    "name": "ipython",
    "version": 3
   },
   "file_extension": ".py",
   "mimetype": "text/x-python",
   "name": "python",
   "nbconvert_exporter": "python",
   "pygments_lexer": "ipython3",
   "version": "3.11.6"
  }
 },
 "nbformat": 4,
 "nbformat_minor": 2
}
